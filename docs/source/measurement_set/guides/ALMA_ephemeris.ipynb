{
 "cells": [
  {
   "cell_type": "markdown",
   "id": "f412df9c-35ac-418d-a4f6-b95edef8478e",
   "metadata": {},
   "source": [
    "# Ephemeris conversion guide"
   ]
  },
  {
   "cell_type": "code",
   "execution_count": 1,
   "id": "14a699d5-bf6e-4ebe-bfa5-dcccbec0ec2e",
   "metadata": {},
   "outputs": [
    {
     "name": "stdout",
     "output_type": "stream",
     "text": [
      "XRADIO version 0.0.56 already installed.\n"
     ]
    }
   ],
   "source": [
    "from importlib.metadata import version\n",
    "import os\n",
    "\n",
    "try:\n",
    "    import xradio\n",
    "\n",
    "    print(\"XRADIO version\", version(\"xradio\"), \"already installed.\")\n",
    "except ImportError as e:\n",
    "    print(e)\n",
    "    print(\"Installing XRADIO\")\n",
    "\n",
    "    os.system(\"pip install xradio\")\n",
    "\n",
    "    import xradio\n",
    "\n",
    "    print(\"xradio version\", version(\"xradio\"), \" installed.\")\n",
    "\n",
    "\n",
    "# These are the three API functions that are currently supported\n",
    "from xradio.image import load_image, read_image, write_image"
   ]
  },
  {
   "cell_type": "markdown",
   "id": "a939f97e-6c76-47b0-aef5-256df2e908f9",
   "metadata": {},
   "source": [
    "## Download dataset"
   ]
  },
  {
   "cell_type": "markdown",
   "id": "805daf71",
   "metadata": {},
   "source": [
    "https://open-bitbucket.nrao.edu/projects/CASA/repos/casatestdata/browse/unittest/tclean/venus_ephem_test.ms"
   ]
  },
  {
   "cell_type": "code",
   "execution_count": 2,
   "id": "134a99e3-c5a2-443c-96d4-f44fae59555a",
   "metadata": {},
   "outputs": [
    {
     "name": "stdout",
     "output_type": "stream",
     "text": [
      "[\u001b[38;2;128;05;128m2025-07-10 16:20:36,429\u001b[0m] \u001b[38;2;255;160;0m WARNING\u001b[0m\u001b[38;2;112;128;144m    viperlog: \u001b[0m File exists: \u001b[38;2;50;50;205m/Users/jsteeb/Dropbox/toolviper/src/toolviper/utils/data/.dropbox\u001b[0m \n",
      "[\u001b[38;2;128;05;128m2025-07-10 16:20:36,429\u001b[0m] \u001b[38;2;50;50;205m    INFO\u001b[0m\u001b[38;2;112;128;144m    viperlog: \u001b[0m Updating file metadata information ...  \n",
      " "
     ]
    },
    {
     "data": {
      "text/html": [
       "<pre style=\"white-space:pre;overflow-x:auto;line-height:normal;font-family:Menlo,'DejaVu Sans Mono',consolas,'Courier New',monospace\">                       \n",
       " <span style=\"font-weight: bold\"> Download List       </span> \n",
       " ───────────────────── \n",
       "  <span style=\"color: #800080; text-decoration-color: #800080\">venus_ephem_test.ms</span>  \n",
       "                       \n",
       "</pre>\n"
      ],
      "text/plain": [
       "                       \n",
       " \u001b[1m \u001b[0m\u001b[1mDownload List      \u001b[0m\u001b[1m \u001b[0m \n",
       " ───────────────────── \n",
       "  \u001b[35mvenus_ephem_test.ms\u001b[0m  \n",
       "                       \n"
      ]
     },
     "metadata": {},
     "output_type": "display_data"
    },
    {
     "name": "stdout",
     "output_type": "stream",
     "text": [
      "[\u001b[38;2;128;05;128m2025-07-10 16:20:37,368\u001b[0m] \u001b[38;2;50;50;205m    INFO\u001b[0m\u001b[38;2;112;128;144m    viperlog: \u001b[0m File exists: venus_ephem_test.ms \n"
     ]
    }
   ],
   "source": [
    "import toolviper\n",
    "ms_file = \"venus_ephem_test.ms\"\n",
    "toolviper.utils.data.download(file=ms_file)"
   ]
  },
  {
   "cell_type": "markdown",
   "id": "f8435c96-7010-4b79-8be6-51f7f6993b5f",
   "metadata": {},
   "source": [
    "## Convert to Processing Set"
   ]
  },
  {
   "cell_type": "code",
   "execution_count": 1,
   "id": "ee52d124-2c17-450b-879f-1f86f0ae265c",
   "metadata": {},
   "outputs": [
    {
     "name": "stdout",
     "output_type": "stream",
     "text": [
      "[\u001b[38;2;128;05;128m2025-07-10 16:22:39,321\u001b[0m] \u001b[38;2;50;50;205m    INFO\u001b[0m\u001b[38;2;112;128;144m    viperlog: \u001b[0m Partition scheme that will be used: ['DATA_DESC_ID', 'OBS_MODE', 'OBSERVATION_ID', 'FIELD_ID'] \n",
      "[\u001b[38;2;128;05;128m2025-07-10 16:22:39,332\u001b[0m] \u001b[38;2;50;50;205m    INFO\u001b[0m\u001b[38;2;112;128;144m    viperlog: \u001b[0m Number of partitions: 7 \n",
      "[\u001b[38;2;128;05;128m2025-07-10 16:22:39,332\u001b[0m] \u001b[38;2;50;50;205m    INFO\u001b[0m\u001b[38;2;112;128;144m    viperlog: \u001b[0m OBSERVATION_ID [0], DDI [0], STATE [15 22 29 20], FIELD [1], SCAN [ 7 11] \n",
      "[\u001b[38;2;128;05;128m2025-07-10 16:22:39,862\u001b[0m] \u001b[38;2;50;50;205m    INFO\u001b[0m\u001b[38;2;112;128;144m    viperlog: \u001b[0m OBSERVATION_ID [0], DDI [0], STATE [16 23 30 21], FIELD [2], SCAN [ 7 11] \n",
      "[\u001b[38;2;128;05;128m2025-07-10 16:22:40,133\u001b[0m] \u001b[38;2;50;50;205m    INFO\u001b[0m\u001b[38;2;112;128;144m    viperlog: \u001b[0m OBSERVATION_ID [0], DDI [0], STATE [17 24 15 22], FIELD [3], SCAN [ 7 11] \n",
      "[\u001b[38;2;128;05;128m2025-07-10 16:22:40,405\u001b[0m] \u001b[38;2;50;50;205m    INFO\u001b[0m\u001b[38;2;112;128;144m    viperlog: \u001b[0m OBSERVATION_ID [0], DDI [0], STATE [18 25 16 23], FIELD [0], SCAN [ 7 11] \n",
      "[\u001b[38;2;128;05;128m2025-07-10 16:22:40,708\u001b[0m] \u001b[38;2;50;50;205m    INFO\u001b[0m\u001b[38;2;112;128;144m    viperlog: \u001b[0m OBSERVATION_ID [0], DDI [0], STATE [19 26 17 24], FIELD [4], SCAN [ 7 11] \n",
      "[\u001b[38;2;128;05;128m2025-07-10 16:22:40,953\u001b[0m] \u001b[38;2;50;50;205m    INFO\u001b[0m\u001b[38;2;112;128;144m    viperlog: \u001b[0m OBSERVATION_ID [0], DDI [0], STATE [20 27 18 25], FIELD [5], SCAN [ 7 11] \n",
      "[\u001b[38;2;128;05;128m2025-07-10 16:22:41,197\u001b[0m] \u001b[38;2;50;50;205m    INFO\u001b[0m\u001b[38;2;112;128;144m    viperlog: \u001b[0m OBSERVATION_ID [0], DDI [0], STATE [21 28 19 26], FIELD [6], SCAN [ 7 11] \n"
     ]
    }
   ],
   "source": [
    "from xradio.measurement_set import convert_msv2_to_processing_set\n",
    "ms_file = \"venus_ephem_test.ms\"\n",
    "\n",
    "main_chunksize = {\"frequency\": 1, \"time\": 20}  # baseline, polarization\n",
    "outfile = \"venus_ephem_test.ps.zarr\"\n",
    "convert_msv2_to_processing_set(\n",
    "    in_file=ms_file,\n",
    "    out_file=outfile,\n",
    "    parallel_mode=\"none\",\n",
    "    overwrite=True,\n",
    "    main_chunksize=main_chunksize,\n",
    ")"
   ]
  },
  {
   "cell_type": "markdown",
   "id": "fbd02679-0df8-4fa5-8036-6f22f534e386",
   "metadata": {},
   "source": [
    "## Processing Set"
   ]
  },
  {
   "cell_type": "code",
   "execution_count": null,
   "id": "dab986ca-55f8-4a4a-ba59-9c97fcc2ca84",
   "metadata": {},
   "outputs": [],
   "source": [
    "ps_name = outfile\n",
    "\n",
    "from xradio.measurement_set import open_processing_set\n",
    "\n",
    "ps_xdt = open_processing_set(ps_store=outfile)\n",
    "ps_xdt.xr_ps.summary()"
   ]
  },
  {
   "cell_type": "code",
   "execution_count": null,
   "id": "259aa56b",
   "metadata": {},
   "outputs": [],
   "source": [
    "\n",
    "\n",
    "ps_xdt[\"venus_ephem_test_0\"]"
   ]
  },
  {
   "cell_type": "code",
   "execution_count": null,
   "id": "079098b0-f78e-4ace-907a-5c63f157b107",
   "metadata": {},
   "outputs": [],
   "source": [
    "ms_xdt = ps_xdt[\"venus_ephem_test_0\"]\n",
    "ms_xdt.observation_info"
   ]
  },
  {
   "cell_type": "code",
   "execution_count": null,
   "id": "990c0f4f",
   "metadata": {},
   "outputs": [],
   "source": []
  },
  {
   "cell_type": "code",
   "execution_count": null,
   "id": "ba761deb-b7a9-4b2b-8163-3050413fe59c",
   "metadata": {},
   "outputs": [],
   "source": [
    "ms_xdt[\"antenna_xds\"]"
   ]
  },
  {
   "cell_type": "code",
   "execution_count": null,
   "id": "24e79ab8",
   "metadata": {},
   "outputs": [],
   "source": [
    "ms_xdt.xr_ms.get_field_and_source_xds()"
   ]
  },
  {
   "cell_type": "code",
   "execution_count": null,
   "id": "6cd15d9d",
   "metadata": {},
   "outputs": [],
   "source": [
    "ms_xdt.xr_ms.get_field_and_source_xds().FIELD_PHASE_CENTER_DIRECTION.isel(time=0,drop=True).to_dict()"
   ]
  },
  {
   "cell_type": "code",
   "execution_count": null,
   "id": "23704913",
   "metadata": {},
   "outputs": [],
   "source": [
    "ps_xdt.xr_ps.plot_antenna_positions(label_all_antennas=False)"
   ]
  },
  {
   "cell_type": "code",
   "execution_count": null,
   "id": "535915a6",
   "metadata": {},
   "outputs": [],
   "source": [
    "ps_xdt.xr_ps.plot_phase_centers()"
   ]
  },
  {
   "cell_type": "code",
   "execution_count": null,
   "id": "5229e81a",
   "metadata": {},
   "outputs": [],
   "source": []
  },
  {
   "cell_type": "code",
   "execution_count": null,
   "id": "c16b4fbb",
   "metadata": {},
   "outputs": [],
   "source": []
  },
  {
   "cell_type": "code",
   "execution_count": null,
   "id": "4496ca01",
   "metadata": {},
   "outputs": [],
   "source": [
    "import xarray as xr\n",
    "xds = xr.DataArray([0,0,0], dims=[\"time\"], coords={\"time\": [0, 1, 2]})\n",
    "xds.attrs = {\"test\":0, \"test2\": 1}\n",
    "xds"
   ]
  },
  {
   "cell_type": "code",
   "execution_count": null,
   "id": "8497761e",
   "metadata": {},
   "outputs": [],
   "source": [
    "xds = xds*10\n",
    "xds"
   ]
  },
  {
   "cell_type": "code",
   "execution_count": null,
   "id": "5820a73e",
   "metadata": {},
   "outputs": [],
   "source": [
    "import numpy as np\n",
    "\n",
    "dis =  {\n",
    "                \"attrs\": {\n",
    "                    \"coordinate_system\": \"geocentric\",\n",
    "                    \"frame\": \"ITRF\",\n",
    "                    \"origin_object_name\": \"earth\",\n",
    "                    \"type\": \"location\",\n",
    "                    \"units\": \"m\",\n",
    "                },\n",
    "                \"data\": [6379946.01326443],\n",
    "                \"dims\": (\"sky_dis_label\",),\n",
    "                \"coords\":  {'sky_dis_label': {'dims': ('sky_dis_label',),\n",
    "                    'data': ['m']}\n",
    "                },\n",
    "            }\n",
    "\n",
    "\n",
    "dir =  {\n",
    "                \"attrs\": {\n",
    "                    \"coordinate_system\": \"geocentric\",\n",
    "                    \"frame\": \"ITRF\",\n",
    "                    \"origin_object_name\": \"earth\",\n",
    "                    \"type\": \"location\",\n",
    "                    \"units\": \"rad\",\n",
    "                },\n",
    "                \"data\": np.array([-1.1825465955049892, -0.3994149869262738]),\n",
    "                \"dims\" : (\"sky_dir_label\",),\n",
    "                \"coords\":  {'sky_dir_label': {'dims': ('sky_dir_label',),\n",
    "                    'data': ['ra', 'dec']}\n",
    "                },\n",
    "                \n",
    "            }\n",
    "\n",
    "dir"
   ]
  },
  {
   "cell_type": "code",
   "execution_count": null,
   "id": "e344b7e7",
   "metadata": {},
   "outputs": [],
   "source": [
    "import xarray as xr\n",
    "\n",
    "\n",
    "xr.DataArray.from_dict(dir)"
   ]
  },
  {
   "cell_type": "code",
   "execution_count": null,
   "id": "8d3bdf08",
   "metadata": {},
   "outputs": [],
   "source": []
  }
 ],
 "metadata": {
  "kernelspec": {
   "display_name": "zinc",
   "language": "python",
   "name": "python3"
  },
  "language_info": {
   "codemirror_mode": {
    "name": "ipython",
    "version": 3
   },
   "file_extension": ".py",
   "mimetype": "text/x-python",
   "name": "python",
   "nbconvert_exporter": "python",
   "pygments_lexer": "ipython3",
   "version": "3.13.5"
  },
  "widgets": {
   "application/vnd.jupyter.widget-state+json": {
    "state": {
     "26954f28face4c31886060b5c5820d4d": {
      "model_module": "@jupyter-widgets/controls",
      "model_module_version": "2.0.0",
      "model_name": "HTMLStyleModel",
      "state": {
       "description_width": "",
       "font_size": null,
       "text_color": null
      }
     },
     "3be689e5802d4343993232cc60a6668f": {
      "model_module": "@jupyter-widgets/base",
      "model_module_version": "2.0.0",
      "model_name": "LayoutModel",
      "state": {}
     },
     "6ffdc156d5484833b93eb12701e1eb60": {
      "model_module": "@jupyter-widgets/controls",
      "model_module_version": "2.0.0",
      "model_name": "ProgressStyleModel",
      "state": {
       "description_width": ""
      }
     },
     "703c695044f248768912e357d4b605b7": {
      "model_module": "@jupyter-widgets/controls",
      "model_module_version": "2.0.0",
      "model_name": "HTMLModel",
      "state": {
       "layout": "IPY_MODEL_3be689e5802d4343993232cc60a6668f",
       "style": "IPY_MODEL_26954f28face4c31886060b5c5820d4d",
       "value": " 16.0M/16.0M [00:01&lt;00:00, 15.2MiB/s]"
      }
     },
     "75b747d2bd6a481997f427d0bd414e14": {
      "model_module": "@jupyter-widgets/base",
      "model_module_version": "2.0.0",
      "model_name": "LayoutModel",
      "state": {}
     },
     "7f9273ecd6e549f08bd44a1fff2e8fcd": {
      "model_module": "@jupyter-widgets/controls",
      "model_module_version": "2.0.0",
      "model_name": "FloatProgressModel",
      "state": {
       "bar_style": "success",
       "layout": "IPY_MODEL_f9106117a8e94dbb8d5a891705b8b534",
       "max": 16758430,
       "style": "IPY_MODEL_6ffdc156d5484833b93eb12701e1eb60",
       "value": 16758430
      }
     },
     "a6ff9089ee254ea49e8e2a18bfd0bdd8": {
      "model_module": "@jupyter-widgets/controls",
      "model_module_version": "2.0.0",
      "model_name": "HTMLModel",
      "state": {
       "layout": "IPY_MODEL_75b747d2bd6a481997f427d0bd414e14",
       "style": "IPY_MODEL_c38f69766f394d9b96ed233d1f2b0bcb",
       "value": "venus_ephem_test.ms.zip: 100%"
      }
     },
     "c38f69766f394d9b96ed233d1f2b0bcb": {
      "model_module": "@jupyter-widgets/controls",
      "model_module_version": "2.0.0",
      "model_name": "HTMLStyleModel",
      "state": {
       "description_width": "",
       "font_size": null,
       "text_color": null
      }
     },
     "cd092c29ff5e442ea549484fa76863b3": {
      "model_module": "@jupyter-widgets/base",
      "model_module_version": "2.0.0",
      "model_name": "LayoutModel",
      "state": {}
     },
     "f0d581a5f0b34ec8af8d68f24997265c": {
      "model_module": "@jupyter-widgets/controls",
      "model_module_version": "2.0.0",
      "model_name": "HBoxModel",
      "state": {
       "children": [
        "IPY_MODEL_a6ff9089ee254ea49e8e2a18bfd0bdd8",
        "IPY_MODEL_7f9273ecd6e549f08bd44a1fff2e8fcd",
        "IPY_MODEL_703c695044f248768912e357d4b605b7"
       ],
       "layout": "IPY_MODEL_cd092c29ff5e442ea549484fa76863b3"
      }
     },
     "f9106117a8e94dbb8d5a891705b8b534": {
      "model_module": "@jupyter-widgets/base",
      "model_module_version": "2.0.0",
      "model_name": "LayoutModel",
      "state": {}
     }
    },
    "version_major": 2,
    "version_minor": 0
   }
  }
 },
 "nbformat": 4,
 "nbformat_minor": 5
}

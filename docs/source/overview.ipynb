{
 "cells": [
  {
   "cell_type": "markdown",
   "metadata": {},
   "source": [
    "\n",
    "# Introduction\n",
    "\n",
    ".. module:: xradio\n",
    "\n",
    "XRADIO is an open-source Python package that leverages [xarray](https://github.com/pydata/xarray) to provide an interface for radio astronomy data. It provides for each dataset type:\n",
    "\n",
    "* Documentation and checkers (for documentation and reference for other software packages)\n",
    "* Converters from existing storage formats (such as measurement sets v2)\n",
    "* Convenience functions for loading, storing and navigating data\n",
    "* Guides and tutorials\n",
    "\n",
    "Following [Xarray terminology](https://docs.xarray.dev/en/latest/user-guide/terminology.html), data in XRADIO is organized into:\n",
    "\n",
    "- [Xarray DataArrays](https://docs.xarray.dev/en/stable/generated/xarray.DataArray.html): a multi-dimensional labeled n-dimensional array\n",
    "- [Xarray Datasets](https://docs.xarray.dev/en/stable/generated/xarray.Dataset.html): a container of multiple data arrays, with shared axes and coordinates.\n",
    "- [Xarray DataTrees](https://docs.xarray.dev/en/stable/user-guide/hierarchical-data.html): a hierarchy of multiple related datasets\n",
    "\n",
    "This means that XRADIO enables:\n",
    "\n",
    "* Usage of any storage back-end that is compatible with `xarray` (such as `zarr` and all of its backends)\n",
    "* Flexible indexing and selection as explained in the [xarray indexing and selection guide](https://docs.xarray.dev/en/latest/user-guide/indexing.html).\n",
    "* Native support for lazy loading and distribution using `dask`."
   ]
  },
  {
   "cell_type": "markdown",
   "metadata": {
    "jp-MarkdownHeadingCollapsed": true,
    "vscode": {
     "languageId": "restructuredtext"
    }
   },
   "source": [
    "### Dataset types\n",
    "\n",
    "XRADIO is actively developing support for various types of radio astronomy data:\n",
    "\n",
    "| Dataset type | Version | Main storage backend | Description | Status |\n",
    "|--------------|---------|-----------|------------|--------|\n",
    "| [Measurement Set (v4)](measurement_set/overview.ipynb) | 4.0.0 | zarr directory (`.ms.zarr`) | Interferometer data ([Visibilities](schema.rst)) and Single Dish data (Spectrum) | Under community review |\n",
    "| Sky and Aperture Images | 0.0.0 | ? | Representation of celestial objects and antenna patterns | Schema design in progress |\n",
    "| Calibration Data | 0.0.0 | ? | Information for instrument calibration | Schema design in progress |\n",
    "| Aperture Models | -- | -- | Antenna dish models using Zernike polynomials | Work scheduled |\n",
    "| Simulation Component Lists | -- | -- | Data for simulating radio astronomy observations | Work scheduled |\n",
    "\n",
    "Additional data types will be added based on community needs and contributions.\n"
   ]
  },
  {
   "cell_type": "markdown",
   "metadata": {},
   "source": [
    "### Schema Versioning\n",
    "\n",
    "Each schema in XRADIO follows semantic versioning (MAJOR.MINOR.PATCH):\n",
    "\n",
    "- **MAJOR**: Changes to existing dimensions, coordinates, data variables, attributes, or measures. (This will not occur without wider community consultation.)\n",
    "- **MINOR**: Addition of new datasets. (Backward compatible)\n",
    "- **PATCH**: Addition of new coordinates, data variables, attributes, or measures to existing datasets. (Backward compatible)\n",
    "\n",
    "For example:\n",
    "\n",
    "- v4.0.0 to v5.0.0: Major change in the Measurement Set structure\n",
    "- v4.0.0 to v4.1.0: Addition of a new dataset type\n",
    "- v4.0.0 to v4.0.1: Addition of new attributes to an existing dataset\n",
    "\n",
    "The Measurement Set schema starts at v4.0.0, building upon the work of [Measurement Set V2](https://casacore.github.io/casacore-notes/229.pdf) and [Measurement Set v3](https://casacore.github.io/casacore-notes/264.pdf) (which was never implemented).\n",
    "\n",
    "An XRADIO release will be tied to specific versions of each available schema. All generated data will include both the XRADIO version and the schema version in the attribute section."
   ]
  },
  {
   "cell_type": "markdown",
   "metadata": {},
   "source": [
    "### Installation\n",
    "\n",
    "XRADIO can be installed in virtual environments via pip. It is recommended to use the conda environment manager from [miniforge](https://github.com/conda-forge/miniforge) to create a clean, self-contained runtime where XRADIO and all its dependencies can be installed:\n",
    "```sh\n",
    "conda create --name xradio python=3.13 --no-default-packages\n",
    "conda activate xradio\n",
    "```\n",
    "> 📝 On macOS it is required to pre-install `python-casacore` using `conda install -c conda-forge python-casacore`.\n",
    "\n",
    "XRADIO can now be installed using:\n",
    "```sh\n",
    "pip install xradio\n",
    "```\n",
    "This will also install the minimal dependencies for XRADIO. Note that if only the minimal dependencies are installed, the functionality to convert MSv2 to MSv4 will not be available. This requires installing `python-casacore` (also included in the `all` group, see below), or alternatively the `casatools` backend, as explained in the [casatools I/O backend guide](measurement_set/guides/backends.md).\n",
    "\n",
    "To install the minimal dependencies and the interactive components (JupyterLab) use:\n",
    "```sh\n",
    "pip install \"xradio[interactive]\"\n",
    "```\n",
    "To enable conversion from MSv2 to MSv4 use (this only works for Linux): \n",
    "```sh\n",
    "pip install \"xradio[python-casacore]\"\n",
    "```\n",
    "To be able to run tests:\n",
    "```sh\n",
    "pip install \"xradio[test]\"\n",
    "```\n",
    "Multiple-dependencies can be installed using:\n",
    "```sh\n",
    "pip install \"xradio[interactive,python-casacore,test]\"\n",
    "```\n",
    "\n",
    "To install a more complete set of dependencies:\n",
    "```sh\n",
    "pip install \"xradio[all]\"\n",
    "```\n",
    "This will include the dependencies required to run the interactive Jupyter notebooks, run tests, build documentation, and python-casacore to enable MSv2=>MSv4 functionality. \n"
   ]
  }
 ],
 "metadata": {
  "language_info": {
   "name": "python"
  }
 },
 "nbformat": 4,
 "nbformat_minor": 4
}
